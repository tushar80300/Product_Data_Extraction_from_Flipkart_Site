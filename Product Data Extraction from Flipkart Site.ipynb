{
 "cells": [
  {
   "cell_type": "code",
   "execution_count": 1,
   "id": "c459a7bb",
   "metadata": {},
   "outputs": [],
   "source": [
    "from bs4 import BeautifulSoup\n",
    "import requests\n",
    "import pandas as pd"
   ]
  },
  {
   "cell_type": "code",
   "execution_count": 2,
   "id": "04e099c8",
   "metadata": {},
   "outputs": [],
   "source": [
    "url=\"https://www.flipkart.com/search?q=mobile&otracker=search&otracker1=search&marketplace=FLIPKART&as-show=on&as=off\""
   ]
  },
  {
   "cell_type": "code",
   "execution_count": 3,
   "id": "1356a425",
   "metadata": {},
   "outputs": [],
   "source": [
    "req=requests.get(url)"
   ]
  },
  {
   "cell_type": "code",
   "execution_count": 4,
   "id": "135d825e",
   "metadata": {},
   "outputs": [
    {
     "data": {
      "text/plain": [
       "<Response [200]>"
      ]
     },
     "execution_count": 4,
     "metadata": {},
     "output_type": "execute_result"
    }
   ],
   "source": [
    "req"
   ]
  },
  {
   "cell_type": "code",
   "execution_count": 5,
   "id": "05e5cac8",
   "metadata": {},
   "outputs": [],
   "source": [
    "content=BeautifulSoup(req.content,'html.parser')"
   ]
  },
  {
   "cell_type": "code",
   "execution_count": 6,
   "id": "d6ab1a41",
   "metadata": {},
   "outputs": [],
   "source": [
    "name=content.find_all('div',{'class':'_4rR01T'})"
   ]
  },
  {
   "cell_type": "code",
   "execution_count": 7,
   "id": "0df59326",
   "metadata": {},
   "outputs": [],
   "source": [
    "rating=content.find_all('div',{'class':'_3LWZlK'})"
   ]
  },
  {
   "cell_type": "code",
   "execution_count": 8,
   "id": "8c8eee62",
   "metadata": {},
   "outputs": [],
   "source": [
    "price=content.find_all('div',{'class':'_30jeq3 _1_WHN1'})"
   ]
  },
  {
   "cell_type": "code",
   "execution_count": 9,
   "id": "78be987f",
   "metadata": {},
   "outputs": [],
   "source": [
    "discount=content.find_all('div',{'class':'_3I9_wc _27UcVY'})"
   ]
  },
  {
   "cell_type": "code",
   "execution_count": 10,
   "id": "ec95a045",
   "metadata": {},
   "outputs": [],
   "source": [
    "nm=[]\n",
    "rt=[]\n",
    "p=[]\n",
    "dis=[]"
   ]
  },
  {
   "cell_type": "code",
   "execution_count": 11,
   "id": "d875b033",
   "metadata": {},
   "outputs": [],
   "source": [
    "for i in name:\n",
    "    nm.append(i.text)\n",
    "\n",
    "for i in price:\n",
    "    p.append(i.text)\n",
    "\n",
    "for i in range(len(discount)):\n",
    "    dis.append(discount[i].text)\n",
    "    \n",
    "for i in range(len(name)):\n",
    "    rt.append(rating[i].text)\n"
   ]
  },
  {
   "cell_type": "code",
   "execution_count": 12,
   "id": "abb196c6",
   "metadata": {},
   "outputs": [],
   "source": [
    "data={'Name':nm,'Price':p,'Rating':rt,'Real Price':dis}\n",
    "df=pd.DataFrame(data)"
   ]
  },
  {
   "cell_type": "code",
   "execution_count": 13,
   "id": "459f7be6",
   "metadata": {},
   "outputs": [
    {
     "data": {
      "text/html": [
       "<div>\n",
       "<style scoped>\n",
       "    .dataframe tbody tr th:only-of-type {\n",
       "        vertical-align: middle;\n",
       "    }\n",
       "\n",
       "    .dataframe tbody tr th {\n",
       "        vertical-align: top;\n",
       "    }\n",
       "\n",
       "    .dataframe thead th {\n",
       "        text-align: right;\n",
       "    }\n",
       "</style>\n",
       "<table border=\"1\" class=\"dataframe\">\n",
       "  <thead>\n",
       "    <tr style=\"text-align: right;\">\n",
       "      <th></th>\n",
       "      <th>Name</th>\n",
       "      <th>Price</th>\n",
       "      <th>Rating</th>\n",
       "      <th>Real Price</th>\n",
       "    </tr>\n",
       "  </thead>\n",
       "  <tbody>\n",
       "    <tr>\n",
       "      <th>0</th>\n",
       "      <td>POCO C51 (Royal Blue, 64 GB)</td>\n",
       "      <td>₹6,999</td>\n",
       "      <td>4.3</td>\n",
       "      <td>₹9,999</td>\n",
       "    </tr>\n",
       "    <tr>\n",
       "      <th>1</th>\n",
       "      <td>POCO C50 (Royal Blue, 32 GB)</td>\n",
       "      <td>₹5,499</td>\n",
       "      <td>4.2</td>\n",
       "      <td>₹8,999</td>\n",
       "    </tr>\n",
       "    <tr>\n",
       "      <th>2</th>\n",
       "      <td>REDMI 11 Prime (Peppy Purple, 128 GB)</td>\n",
       "      <td>₹10,999</td>\n",
       "      <td>4.2</td>\n",
       "      <td>₹16,999</td>\n",
       "    </tr>\n",
       "    <tr>\n",
       "      <th>3</th>\n",
       "      <td>REDMI 11 Prime (Flashy Black, 128 GB)</td>\n",
       "      <td>₹10,999</td>\n",
       "      <td>4.2</td>\n",
       "      <td>₹16,999</td>\n",
       "    </tr>\n",
       "    <tr>\n",
       "      <th>4</th>\n",
       "      <td>REDMI 11 Prime (Playful Green, 128 GB)</td>\n",
       "      <td>₹10,999</td>\n",
       "      <td>4.2</td>\n",
       "      <td>₹16,999</td>\n",
       "    </tr>\n",
       "    <tr>\n",
       "      <th>5</th>\n",
       "      <td>POCO C51 (Power Black, 64 GB)</td>\n",
       "      <td>₹6,999</td>\n",
       "      <td>4.3</td>\n",
       "      <td>₹9,999</td>\n",
       "    </tr>\n",
       "    <tr>\n",
       "      <th>6</th>\n",
       "      <td>Infinix Smart 7 HD (Green Apple, 64 GB)</td>\n",
       "      <td>₹6,199</td>\n",
       "      <td>4.4</td>\n",
       "      <td>₹7,999</td>\n",
       "    </tr>\n",
       "    <tr>\n",
       "      <th>7</th>\n",
       "      <td>POCO C50 (Country Green, 32 GB)</td>\n",
       "      <td>₹5,499</td>\n",
       "      <td>4.2</td>\n",
       "      <td>₹8,999</td>\n",
       "    </tr>\n",
       "    <tr>\n",
       "      <th>8</th>\n",
       "      <td>Infinix SMART 7 (Azure Blue, 64 GB)</td>\n",
       "      <td>₹7,499</td>\n",
       "      <td>4.3</td>\n",
       "      <td>₹9,999</td>\n",
       "    </tr>\n",
       "    <tr>\n",
       "      <th>9</th>\n",
       "      <td>Infinix SMART 7 (Night Black, 64 GB)</td>\n",
       "      <td>₹7,499</td>\n",
       "      <td>4.3</td>\n",
       "      <td>₹9,999</td>\n",
       "    </tr>\n",
       "    <tr>\n",
       "      <th>10</th>\n",
       "      <td>Infinix SMART 7 (Emerald Green, 64 GB)</td>\n",
       "      <td>₹7,499</td>\n",
       "      <td>4.3</td>\n",
       "      <td>₹9,999</td>\n",
       "    </tr>\n",
       "    <tr>\n",
       "      <th>11</th>\n",
       "      <td>REDMI A1+ (Light Blue, 32 GB)</td>\n",
       "      <td>₹6,749</td>\n",
       "      <td>4.1</td>\n",
       "      <td>₹10,999</td>\n",
       "    </tr>\n",
       "    <tr>\n",
       "      <th>12</th>\n",
       "      <td>REDMI 10 (Shadow Black, 64 GB)</td>\n",
       "      <td>₹9,499</td>\n",
       "      <td>4.3</td>\n",
       "      <td>₹14,999</td>\n",
       "    </tr>\n",
       "    <tr>\n",
       "      <th>13</th>\n",
       "      <td>POCO C55 (Forest Green, 64 GB)</td>\n",
       "      <td>₹7,749</td>\n",
       "      <td>4.2</td>\n",
       "      <td>₹11,999</td>\n",
       "    </tr>\n",
       "    <tr>\n",
       "      <th>14</th>\n",
       "      <td>MOTOROLA G32 (Mineral Gray, 128 GB)</td>\n",
       "      <td>₹11,999</td>\n",
       "      <td>4.1</td>\n",
       "      <td>₹18,999</td>\n",
       "    </tr>\n",
       "    <tr>\n",
       "      <th>15</th>\n",
       "      <td>POCO M4 5G (Cool Blue, 64 GB)</td>\n",
       "      <td>₹12,999</td>\n",
       "      <td>4.2</td>\n",
       "      <td>₹15,999</td>\n",
       "    </tr>\n",
       "    <tr>\n",
       "      <th>16</th>\n",
       "      <td>Infinix HOT 30i (Glacier Blue, 128 GB)</td>\n",
       "      <td>₹9,499</td>\n",
       "      <td>4.3</td>\n",
       "      <td>₹11,999</td>\n",
       "    </tr>\n",
       "    <tr>\n",
       "      <th>17</th>\n",
       "      <td>Infinix HOT 30i (Mirror Black, 128 GB)</td>\n",
       "      <td>₹9,499</td>\n",
       "      <td>4.3</td>\n",
       "      <td>₹11,999</td>\n",
       "    </tr>\n",
       "    <tr>\n",
       "      <th>18</th>\n",
       "      <td>Infinix HOT 30i (Marigold, 128 GB)</td>\n",
       "      <td>₹9,499</td>\n",
       "      <td>4.3</td>\n",
       "      <td>₹11,999</td>\n",
       "    </tr>\n",
       "    <tr>\n",
       "      <th>19</th>\n",
       "      <td>Infinix HOT 30i (Diamond White, 128 GB)</td>\n",
       "      <td>₹9,499</td>\n",
       "      <td>4.3</td>\n",
       "      <td>₹11,999</td>\n",
       "    </tr>\n",
       "    <tr>\n",
       "      <th>20</th>\n",
       "      <td>Infinix HOT 30i (Diamond White, 64 GB)</td>\n",
       "      <td>₹8,399</td>\n",
       "      <td>4.3</td>\n",
       "      <td>₹9,999</td>\n",
       "    </tr>\n",
       "    <tr>\n",
       "      <th>21</th>\n",
       "      <td>Infinix HOT 30i (Glacier Blue, 64 GB)</td>\n",
       "      <td>₹8,399</td>\n",
       "      <td>4.3</td>\n",
       "      <td>₹9,999</td>\n",
       "    </tr>\n",
       "    <tr>\n",
       "      <th>22</th>\n",
       "      <td>Infinix HOT 30i (Marigold, 64 GB)</td>\n",
       "      <td>₹8,399</td>\n",
       "      <td>4.3</td>\n",
       "      <td>₹9,999</td>\n",
       "    </tr>\n",
       "    <tr>\n",
       "      <th>23</th>\n",
       "      <td>Infinix HOT 30i (Mirror Black, 64 GB)</td>\n",
       "      <td>₹8,399</td>\n",
       "      <td>4.3</td>\n",
       "      <td>₹9,999</td>\n",
       "    </tr>\n",
       "  </tbody>\n",
       "</table>\n",
       "</div>"
      ],
      "text/plain": [
       "                                       Name    Price Rating Real Price\n",
       "0              POCO C51 (Royal Blue, 64 GB)   ₹6,999    4.3     ₹9,999\n",
       "1              POCO C50 (Royal Blue, 32 GB)   ₹5,499    4.2     ₹8,999\n",
       "2     REDMI 11 Prime (Peppy Purple, 128 GB)  ₹10,999    4.2    ₹16,999\n",
       "3     REDMI 11 Prime (Flashy Black, 128 GB)  ₹10,999    4.2    ₹16,999\n",
       "4    REDMI 11 Prime (Playful Green, 128 GB)  ₹10,999    4.2    ₹16,999\n",
       "5             POCO C51 (Power Black, 64 GB)   ₹6,999    4.3     ₹9,999\n",
       "6   Infinix Smart 7 HD (Green Apple, 64 GB)   ₹6,199    4.4     ₹7,999\n",
       "7           POCO C50 (Country Green, 32 GB)   ₹5,499    4.2     ₹8,999\n",
       "8       Infinix SMART 7 (Azure Blue, 64 GB)   ₹7,499    4.3     ₹9,999\n",
       "9      Infinix SMART 7 (Night Black, 64 GB)   ₹7,499    4.3     ₹9,999\n",
       "10   Infinix SMART 7 (Emerald Green, 64 GB)   ₹7,499    4.3     ₹9,999\n",
       "11            REDMI A1+ (Light Blue, 32 GB)   ₹6,749    4.1    ₹10,999\n",
       "12           REDMI 10 (Shadow Black, 64 GB)   ₹9,499    4.3    ₹14,999\n",
       "13           POCO C55 (Forest Green, 64 GB)   ₹7,749    4.2    ₹11,999\n",
       "14      MOTOROLA G32 (Mineral Gray, 128 GB)  ₹11,999    4.1    ₹18,999\n",
       "15            POCO M4 5G (Cool Blue, 64 GB)  ₹12,999    4.2    ₹15,999\n",
       "16   Infinix HOT 30i (Glacier Blue, 128 GB)   ₹9,499    4.3    ₹11,999\n",
       "17   Infinix HOT 30i (Mirror Black, 128 GB)   ₹9,499    4.3    ₹11,999\n",
       "18       Infinix HOT 30i (Marigold, 128 GB)   ₹9,499    4.3    ₹11,999\n",
       "19  Infinix HOT 30i (Diamond White, 128 GB)   ₹9,499    4.3    ₹11,999\n",
       "20   Infinix HOT 30i (Diamond White, 64 GB)   ₹8,399    4.3     ₹9,999\n",
       "21    Infinix HOT 30i (Glacier Blue, 64 GB)   ₹8,399    4.3     ₹9,999\n",
       "22        Infinix HOT 30i (Marigold, 64 GB)   ₹8,399    4.3     ₹9,999\n",
       "23    Infinix HOT 30i (Mirror Black, 64 GB)   ₹8,399    4.3     ₹9,999"
      ]
     },
     "execution_count": 13,
     "metadata": {},
     "output_type": "execute_result"
    }
   ],
   "source": [
    "df"
   ]
  },
  {
   "cell_type": "code",
   "execution_count": null,
   "id": "326ac8f0",
   "metadata": {},
   "outputs": [],
   "source": [
    "df.to_excel('part.xlsx',encoding='utf-8',index=False)"
   ]
  }
 ],
 "metadata": {
  "kernelspec": {
   "display_name": "Python 3 (ipykernel)",
   "language": "python",
   "name": "python3"
  },
  "language_info": {
   "codemirror_mode": {
    "name": "ipython",
    "version": 3
   },
   "file_extension": ".py",
   "mimetype": "text/x-python",
   "name": "python",
   "nbconvert_exporter": "python",
   "pygments_lexer": "ipython3",
   "version": "3.9.12"
  }
 },
 "nbformat": 4,
 "nbformat_minor": 5
}
